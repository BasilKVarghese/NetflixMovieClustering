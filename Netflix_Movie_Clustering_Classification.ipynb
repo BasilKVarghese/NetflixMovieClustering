{
  "cells": [
    {
      "cell_type": "markdown",
      "metadata": {
        "id": "VChNQ4XjtRkq"
      },
      "source": [
        "### Loading Libraries"
      ]
    },
    {
      "cell_type": "code",
      "execution_count": null,
      "metadata": {
        "id": "LJUS-60lhmoU"
      },
      "outputs": [],
      "source": [
        "# Basic Libraries\n",
        "import pandas as pd\n",
        "import numpy as np\n",
        "from sklearn.preprocessing import MinMaxScaler\n",
        "import itertools as it\n",
        "from collections import Counter\n",
        "import pickle\n",
        "import sys\n",
        "\n",
        "# NLP libraries\n",
        "import nltk\n",
        "import re\n",
        "import string\n",
        "\n",
        "\n",
        "# Visualization Libraries\n",
        "import matplotlib.pyplot as plt\n",
        "import seaborn as sns\n",
        "\n",
        "# sklearn libraries\n",
        "from sklearn.manifold import TSNE\n",
        "from sklearn.cluster import KMeans\n",
        "from sklearn.metrics import silhouette_score, calinski_harabasz_score, davies_bouldin_score, classification_report\n",
        "from sklearn.feature_extraction.text import TfidfVectorizer\n",
        "from sklearn.feature_extraction.text import CountVectorizer\n",
        "from sklearn.decomposition import PCA\n",
        "from sklearn.cluster import AgglomerativeClustering \n",
        "import scipy.cluster.hierarchy as shc\n",
        "from sklearn.naive_bayes import GaussianNB, MultinomialNB\n",
        "from sklearn.model_selection import train_test_split\n",
        "from sklearn import preprocessing\n",
        "from xgboost import XGBClassifier\n",
        "#tensorflow libraries\n",
        "\n",
        "from tensorflow.keras.models import Model, Sequential\n",
        "from tensorflow.keras.layers import Dense, Input, Dropout\n",
        "from tensorflow.keras.preprocessing import sequence"
      ]
    },
    {
      "cell_type": "code",
      "execution_count": null,
      "metadata": {
        "id": "biOn-3Jt61oT"
      },
      "outputs": [],
      "source": [
        "def embedding(x_train,x_test,method):\n",
        "\n",
        "    if method == 'GLOVE':\n",
        "        \n",
        "        max_words = 20000\n",
        "        # Max number of words in each tweet.\n",
        "        max_seq = max(x_train.apply(lambda x:len(x)))\n",
        "        \n",
        "        tokenizer = Tokenizer(num_words=max_words,oov_token=\"<OOV>\")\n",
        "        tokenizer.fit_on_texts(x_train.values)\n",
        "        word_index = tokenizer.word_index\n",
        "        vocabulary = list(word_index.keys())\n",
        "        x_train = tokenizer.texts_to_sequences(x_train)\n",
        "        x_test = tokenizer.texts_to_sequences(x_test)\n",
        "        x_train = pad_sequences(x_train, maxlen = 200)\n",
        "        x_test = pad_sequences(x_test, maxlen = 200)\n",
        "        \n",
        "        embedding_matrix = np.zeros((len(vocabulary), 200))\n",
        "\n",
        "        for word,index in word_index.items():\n",
        "            try: \n",
        "                embedding_matrix[index,:] = glove_dictionary[word]\n",
        "            except:\n",
        "                pass\n",
        "        return x_train, x_test,y_train,y_test, embedding_matrix\n",
        "    \n",
        "    elif method == 'W2V':\n",
        "        max_words = 20000\n",
        "        # Max number of words in each tweet.\n",
        "        max_seq = max(x_train.apply(lambda x:len(x)))\n",
        "        \n",
        "        tokenizer = Tokenizer(num_words=max_words,oov_token=\"<OOV>\")\n",
        "        tokenizer.fit_on_texts(x_train.values)\n",
        "        word_index = tokenizer.word_index\n",
        "        vocabulary = list(word_index.keys())\n",
        "        x_train = tokenizer.texts_to_sequences(x_train)\n",
        "        x_test = tokenizer.texts_to_sequences(x_test)\n",
        "        x_train = pad_sequences(x_train, maxlen = 200)\n",
        "        x_test = pad_sequences(x_test, maxlen = 200)\n",
        "        \n",
        "        embedding_matrix = np.zeros((len(vocabulary), 200))\n",
        "\n",
        "        for word,index in word_index.items():\n",
        "            try: \n",
        "                embedding_matrix[index,:] = w2v_dictionary[word]\n",
        "            except:\n",
        "                pass\n",
        "        return x_train, x_test,y_train,y_test, embedding_matrix\n",
        "    \n",
        "    elif method == 'W2V_ML':\n",
        "        x_train_embeds = w2v_encoding(x_train)\n",
        "        x_test_embeds = w2v_encoding(x_test)\n",
        "        x_train_embeds = [np.array(x).mean(axis = 0) for x in x_train_embeds]\n",
        "        x_test_embeds = [np.array(x).mean(axis = 0) for x in x_test_embeds]\n",
        "        \n",
        "        return x_train_embeds, x_test_embeds, []\n",
        "    \n",
        "    elif method == 'GLOVE_ML':\n",
        "        x_train_embeds = glove_encoding(x_train)\n",
        "        x_test_embeds = glove_encoding(x_test)\n",
        "        x_train_embeds = [np.array(x).mean(axis = 0) for x in x_train_embeds]\n",
        "        x_test_embeds = [np.array(x).mean(axis = 0) for x in x_test_embeds]\n",
        "        \n",
        "        return x_train_embeds, x_test_embeds, []\n",
        "        \n",
        "\n"
      ]
    },
    {
      "cell_type": "code",
      "execution_count": null,
      "metadata": {
        "id": "eUI7Dn_QlT_c"
      },
      "outputs": [],
      "source": [
        "def preprocess_data(data, embedding_method, target_encoding):\n",
        "    \n",
        "    print(\"\\n### CLEANING DATASET ###\")\n",
        "    print('Shape of dataset before cleaning', data.shape)\n",
        "    \n",
        "    data['description'] = data['description'].apply(clean_text)\n",
        "    print('Shape of dataset after cleaning', data.shape)\n",
        "    \n",
        "    print(\"\\n### TRAIN - TEST SPLIT ###\")\n",
        "    \n",
        "    x = data.iloc[:,0]\n",
        "    y = data.iloc[:,1]\n",
        "    x_train, x_test, y_train, y_test = train_test_split(x,y,test_size=0.25, random_state=100)\n",
        "    print('Shape of x_train',x_train.shape)\n",
        "    print('Shape of x_test',x_test.shape)\n",
        "    print('Shape of y_train',y_train.shape)\n",
        "    print('Shape of x_test',y_test.shape)\n",
        "    \n",
        "    print(\"\\n### EMBEDDING TEXTS ###\")\n",
        "    \n",
        "    x_train_embeds, x_test_embeds,embedding_matrix = embedding(x_train,x_test,embedding_method)\n",
        "    \n",
        "    print(\"\\n ### Shape after embeddings ###\")\n",
        "    \n",
        "    print('Shape of x_train',np.array(x_train_embeds).shape)\n",
        "    print('Shape of x_test',np.array(x_test_embeds).shape)\n",
        "    print('Shape of y_train',np.array(y_train).shape)\n",
        "    print('Shape of x_test',np.array(y_test).shape)\n",
        "    \n",
        "    \n",
        "    print(\"\\n ### Shape of target after encoding ###\")\n",
        "    print(\"size of y_train: \",len(y_train))\n",
        "    print(\"size of y_test: \",len(y_test))\n",
        "\n",
        "    return x_train_embeds,x_test_embeds, y_train, y_test"
      ]
    },
    {
      "cell_type": "code",
      "execution_count": null,
      "metadata": {
        "id": "BUl_-aK261oU"
      },
      "outputs": [],
      "source": [
        "def run_model(data, embedding_method, target_encoding,model):\n",
        "    \n",
        "    data = data.copy(deep = True)\n",
        "    print(\"\\n### CLEANING DATASET ###\")\n",
        "    print('Shape of dataset before cleaning', data.shape)\n",
        "    print(data['description'][0])\n",
        "    data['description'] = data['description'].apply(clean_text)\n",
        "    print('Shape of dataset after cleaning', data.shape)\n",
        "    print(data['description'][0])\n",
        "    print(\"\\n### TRAIN - TEST SPLIT ###\")\n",
        "    \n",
        "    x = data.iloc[:,0]\n",
        "    y = data.iloc[:,1]\n",
        "    x_train, x_test, y_train, y_test = train_test_split(x,y,test_size=0.25, random_state=100)\n",
        "    print('Shape of x_train',x_train.shape)\n",
        "    print('Shape of x_test',x_test.shape)\n",
        "    print('Shape of y_train',y_train.shape)\n",
        "    print('Shape of x_test',y_test.shape)\n",
        "    \n",
        "    print(\"\\n### EMBEDDING TEXTS ###\")\n",
        "    \n",
        "    x_train_embeds, x_test_embeds,embedding_matrix = embedding(x_train,x_test,embedding_method)\n",
        "    \n",
        "    print(\"\\n ### Shape after embeddings ###\")\n",
        "    \n",
        "    print('Shape of x_train',np.array(x_train_embeds).shape)\n",
        "    print('Shape of x_test',np.array(x_test_embeds).shape)\n",
        "    print('Shape of y_train',np.array(y_train).shape)\n",
        "    print('Shape of x_test',np.array(y_test).shape)\n",
        "    \n",
        "    # print(\"\\n### ENCODING TARGET VARIABLE ###\")\n",
        "    # y_train_enc,y_test_enc = target_encoder(y_train,y_test,target_encoding)\n",
        "    \n",
        "    print(\"\\n ### Shape of target after encoding ###\")\n",
        "    print(\"size of y_train: \",len(y_train))\n",
        "    print(\"size of y_test: \",len(y_test))\n",
        "    \n",
        "    if model == 'Gaussian NB':\n",
        "        \n",
        "        print(\"\\n## TRAINING GAUSSIAN NAIVE BAYES ##\")\n",
        "        nb = GaussianNB()\n",
        "        nb.fit(x_train_embeds, y_train)\n",
        "        \n",
        "        print(\"## PREDICTING ##\")\n",
        "        preds = nb.predict(x_test_embeds)\n",
        "        \n",
        "        print('### CLASSIFICATION REPORT ###')\n",
        "        print(classification_report(y_test,preds))\n",
        "    elif model == 'XGboost':\n",
        "\n",
        "        print(\"\\n## TRAINING XGboost ##\")\n",
        "        xgb = XGBClassifier()\n",
        "        xgb.fit(np.array(x_train_embeds), np.array(y_train))\n",
        "\n",
        "        print(\"## PREDICTING ##\")\n",
        "        preds = xgb.predict(np.array(x_test_embeds))\n",
        "\n",
        "        print('### CLASSIFICATION REPORT ###')\n",
        "        print(classification_report(y_test,preds))\n",
        "\n",
        "        "
      ]
    },
    {
      "cell_type": "markdown",
      "metadata": {
        "id": "IUdE5mPdtVc0"
      },
      "source": [
        "### Loading Dataset"
      ]
    },
    {
      "cell_type": "code",
      "execution_count": null,
      "metadata": {
        "colab": {
          "base_uri": "https://localhost:8080/",
          "height": 722
        },
        "id": "dT-Ab3cOePmo",
        "outputId": "a81e6772-6b4a-4eb0-9359-165d813c80ca"
      },
      "outputs": [
        {
          "name": "stdout",
          "output_type": "stream",
          "text": [
            "(8807, 14)\n"
          ]
        },
        {
          "data": {
            "text/html": [
              "\n",
              "  <div id=\"df-1707bdb6-90f0-405d-90c9-4d287d489f98\">\n",
              "    <div class=\"colab-df-container\">\n",
              "      <div>\n",
              "<style scoped>\n",
              "    .dataframe tbody tr th:only-of-type {\n",
              "        vertical-align: middle;\n",
              "    }\n",
              "\n",
              "    .dataframe tbody tr th {\n",
              "        vertical-align: top;\n",
              "    }\n",
              "\n",
              "    .dataframe thead th {\n",
              "        text-align: right;\n",
              "    }\n",
              "</style>\n",
              "<table border=\"1\" class=\"dataframe\">\n",
              "  <thead>\n",
              "    <tr style=\"text-align: right;\">\n",
              "      <th></th>\n",
              "      <th>Unnamed: 0</th>\n",
              "      <th>show_id</th>\n",
              "      <th>type</th>\n",
              "      <th>title</th>\n",
              "      <th>director</th>\n",
              "      <th>cast</th>\n",
              "      <th>country</th>\n",
              "      <th>date_added</th>\n",
              "      <th>release_year</th>\n",
              "      <th>rating</th>\n",
              "      <th>duration</th>\n",
              "      <th>listed_in</th>\n",
              "      <th>description</th>\n",
              "      <th>cluster</th>\n",
              "    </tr>\n",
              "  </thead>\n",
              "  <tbody>\n",
              "    <tr>\n",
              "      <th>0</th>\n",
              "      <td>0</td>\n",
              "      <td>s1</td>\n",
              "      <td>Movie</td>\n",
              "      <td>Dick Johnson Is Dead</td>\n",
              "      <td>Kirsten Johnson</td>\n",
              "      <td>NaN</td>\n",
              "      <td>United States</td>\n",
              "      <td>September 25, 2021</td>\n",
              "      <td>2020</td>\n",
              "      <td>PG-13</td>\n",
              "      <td>90 min</td>\n",
              "      <td>Documentaries</td>\n",
              "      <td>As her father nears the end of his life, filmm...</td>\n",
              "      <td>1</td>\n",
              "    </tr>\n",
              "    <tr>\n",
              "      <th>1</th>\n",
              "      <td>1</td>\n",
              "      <td>s2</td>\n",
              "      <td>TV Show</td>\n",
              "      <td>Blood &amp; Water</td>\n",
              "      <td>NaN</td>\n",
              "      <td>Ama Qamata, Khosi Ngema, Gail Mabalane, Thaban...</td>\n",
              "      <td>South Africa</td>\n",
              "      <td>September 24, 2021</td>\n",
              "      <td>2021</td>\n",
              "      <td>TV-MA</td>\n",
              "      <td>2 Seasons</td>\n",
              "      <td>International TV Shows, TV Dramas, TV Mysteries</td>\n",
              "      <td>After crossing paths at a party, a Cape Town t...</td>\n",
              "      <td>0</td>\n",
              "    </tr>\n",
              "    <tr>\n",
              "      <th>2</th>\n",
              "      <td>2</td>\n",
              "      <td>s3</td>\n",
              "      <td>TV Show</td>\n",
              "      <td>Ganglands</td>\n",
              "      <td>Julien Leclercq</td>\n",
              "      <td>Sami Bouajila, Tracy Gotoas, Samuel Jouy, Nabi...</td>\n",
              "      <td>NaN</td>\n",
              "      <td>September 24, 2021</td>\n",
              "      <td>2021</td>\n",
              "      <td>TV-MA</td>\n",
              "      <td>1 Season</td>\n",
              "      <td>Crime TV Shows, International TV Shows, TV Act...</td>\n",
              "      <td>To protect his family from a powerful drug lor...</td>\n",
              "      <td>13</td>\n",
              "    </tr>\n",
              "    <tr>\n",
              "      <th>3</th>\n",
              "      <td>3</td>\n",
              "      <td>s4</td>\n",
              "      <td>TV Show</td>\n",
              "      <td>Jailbirds New Orleans</td>\n",
              "      <td>NaN</td>\n",
              "      <td>NaN</td>\n",
              "      <td>NaN</td>\n",
              "      <td>September 24, 2021</td>\n",
              "      <td>2021</td>\n",
              "      <td>TV-MA</td>\n",
              "      <td>1 Season</td>\n",
              "      <td>Docuseries, Reality TV</td>\n",
              "      <td>Feuds, flirtations and toilet talk go down amo...</td>\n",
              "      <td>0</td>\n",
              "    </tr>\n",
              "    <tr>\n",
              "      <th>4</th>\n",
              "      <td>4</td>\n",
              "      <td>s5</td>\n",
              "      <td>TV Show</td>\n",
              "      <td>Kota Factory</td>\n",
              "      <td>NaN</td>\n",
              "      <td>Mayur More, Jitendra Kumar, Ranjan Raj, Alam K...</td>\n",
              "      <td>India</td>\n",
              "      <td>September 24, 2021</td>\n",
              "      <td>2021</td>\n",
              "      <td>TV-MA</td>\n",
              "      <td>2 Seasons</td>\n",
              "      <td>International TV Shows, Romantic TV Shows, TV ...</td>\n",
              "      <td>In a city of coaching centers known to train I...</td>\n",
              "      <td>5</td>\n",
              "    </tr>\n",
              "  </tbody>\n",
              "</table>\n",
              "</div>\n",
              "      <button class=\"colab-df-convert\" onclick=\"convertToInteractive('df-1707bdb6-90f0-405d-90c9-4d287d489f98')\"\n",
              "              title=\"Convert this dataframe to an interactive table.\"\n",
              "              style=\"display:none;\">\n",
              "        \n",
              "  <svg xmlns=\"http://www.w3.org/2000/svg\" height=\"24px\"viewBox=\"0 0 24 24\"\n",
              "       width=\"24px\">\n",
              "    <path d=\"M0 0h24v24H0V0z\" fill=\"none\"/>\n",
              "    <path d=\"M18.56 5.44l.94 2.06.94-2.06 2.06-.94-2.06-.94-.94-2.06-.94 2.06-2.06.94zm-11 1L8.5 8.5l.94-2.06 2.06-.94-2.06-.94L8.5 2.5l-.94 2.06-2.06.94zm10 10l.94 2.06.94-2.06 2.06-.94-2.06-.94-.94-2.06-.94 2.06-2.06.94z\"/><path d=\"M17.41 7.96l-1.37-1.37c-.4-.4-.92-.59-1.43-.59-.52 0-1.04.2-1.43.59L10.3 9.45l-7.72 7.72c-.78.78-.78 2.05 0 2.83L4 21.41c.39.39.9.59 1.41.59.51 0 1.02-.2 1.41-.59l7.78-7.78 2.81-2.81c.8-.78.8-2.07 0-2.86zM5.41 20L4 18.59l7.72-7.72 1.47 1.35L5.41 20z\"/>\n",
              "  </svg>\n",
              "      </button>\n",
              "      \n",
              "  <style>\n",
              "    .colab-df-container {\n",
              "      display:flex;\n",
              "      flex-wrap:wrap;\n",
              "      gap: 12px;\n",
              "    }\n",
              "\n",
              "    .colab-df-convert {\n",
              "      background-color: #E8F0FE;\n",
              "      border: none;\n",
              "      border-radius: 50%;\n",
              "      cursor: pointer;\n",
              "      display: none;\n",
              "      fill: #1967D2;\n",
              "      height: 32px;\n",
              "      padding: 0 0 0 0;\n",
              "      width: 32px;\n",
              "    }\n",
              "\n",
              "    .colab-df-convert:hover {\n",
              "      background-color: #E2EBFA;\n",
              "      box-shadow: 0px 1px 2px rgba(60, 64, 67, 0.3), 0px 1px 3px 1px rgba(60, 64, 67, 0.15);\n",
              "      fill: #174EA6;\n",
              "    }\n",
              "\n",
              "    [theme=dark] .colab-df-convert {\n",
              "      background-color: #3B4455;\n",
              "      fill: #D2E3FC;\n",
              "    }\n",
              "\n",
              "    [theme=dark] .colab-df-convert:hover {\n",
              "      background-color: #434B5C;\n",
              "      box-shadow: 0px 1px 3px 1px rgba(0, 0, 0, 0.15);\n",
              "      filter: drop-shadow(0px 1px 2px rgba(0, 0, 0, 0.3));\n",
              "      fill: #FFFFFF;\n",
              "    }\n",
              "  </style>\n",
              "\n",
              "      <script>\n",
              "        const buttonEl =\n",
              "          document.querySelector('#df-1707bdb6-90f0-405d-90c9-4d287d489f98 button.colab-df-convert');\n",
              "        buttonEl.style.display =\n",
              "          google.colab.kernel.accessAllowed ? 'block' : 'none';\n",
              "\n",
              "        async function convertToInteractive(key) {\n",
              "          const element = document.querySelector('#df-1707bdb6-90f0-405d-90c9-4d287d489f98');\n",
              "          const dataTable =\n",
              "            await google.colab.kernel.invokeFunction('convertToInteractive',\n",
              "                                                     [key], {});\n",
              "          if (!dataTable) return;\n",
              "\n",
              "          const docLinkHtml = 'Like what you see? Visit the ' +\n",
              "            '<a target=\"_blank\" href=https://colab.research.google.com/notebooks/data_table.ipynb>data table notebook</a>'\n",
              "            + ' to learn more about interactive tables.';\n",
              "          element.innerHTML = '';\n",
              "          dataTable['output_type'] = 'display_data';\n",
              "          await google.colab.output.renderOutput(dataTable, element);\n",
              "          const docLink = document.createElement('div');\n",
              "          docLink.innerHTML = docLinkHtml;\n",
              "          element.appendChild(docLink);\n",
              "        }\n",
              "      </script>\n",
              "    </div>\n",
              "  </div>\n",
              "  "
            ],
            "text/plain": [
              "   Unnamed: 0 show_id     type                  title         director  \\\n",
              "0           0      s1    Movie   Dick Johnson Is Dead  Kirsten Johnson   \n",
              "1           1      s2  TV Show          Blood & Water              NaN   \n",
              "2           2      s3  TV Show              Ganglands  Julien Leclercq   \n",
              "3           3      s4  TV Show  Jailbirds New Orleans              NaN   \n",
              "4           4      s5  TV Show           Kota Factory              NaN   \n",
              "\n",
              "                                                cast        country  \\\n",
              "0                                                NaN  United States   \n",
              "1  Ama Qamata, Khosi Ngema, Gail Mabalane, Thaban...   South Africa   \n",
              "2  Sami Bouajila, Tracy Gotoas, Samuel Jouy, Nabi...            NaN   \n",
              "3                                                NaN            NaN   \n",
              "4  Mayur More, Jitendra Kumar, Ranjan Raj, Alam K...          India   \n",
              "\n",
              "           date_added  release_year rating   duration  \\\n",
              "0  September 25, 2021          2020  PG-13     90 min   \n",
              "1  September 24, 2021          2021  TV-MA  2 Seasons   \n",
              "2  September 24, 2021          2021  TV-MA   1 Season   \n",
              "3  September 24, 2021          2021  TV-MA   1 Season   \n",
              "4  September 24, 2021          2021  TV-MA  2 Seasons   \n",
              "\n",
              "                                           listed_in  \\\n",
              "0                                      Documentaries   \n",
              "1    International TV Shows, TV Dramas, TV Mysteries   \n",
              "2  Crime TV Shows, International TV Shows, TV Act...   \n",
              "3                             Docuseries, Reality TV   \n",
              "4  International TV Shows, Romantic TV Shows, TV ...   \n",
              "\n",
              "                                         description  cluster  \n",
              "0  As her father nears the end of his life, filmm...        1  \n",
              "1  After crossing paths at a party, a Cape Town t...        0  \n",
              "2  To protect his family from a powerful drug lor...       13  \n",
              "3  Feuds, flirtations and toilet talk go down amo...        0  \n",
              "4  In a city of coaching centers known to train I...        5  "
            ]
          },
          "execution_count": 44,
          "metadata": {},
          "output_type": "execute_result"
        }
      ],
      "source": [
        "data_org = pd.read_csv(\"netflix_titles_bert_HC_2.csv\")\n",
        "data_org = data_org.dropna(subset = ['description'])\n",
        "print(data_org.shape)\n",
        "data_org.head()"
      ]
    },
    {
      "cell_type": "code",
      "execution_count": null,
      "metadata": {
        "colab": {
          "base_uri": "https://localhost:8080/",
          "height": 224
        },
        "id": "ys7ssKF-dzJI",
        "outputId": "cf67e869-874a-46bc-b3c4-ebda507846c1"
      },
      "outputs": [
        {
          "name": "stdout",
          "output_type": "stream",
          "text": [
            "(8807, 2)\n"
          ]
        },
        {
          "data": {
            "text/html": [
              "\n",
              "  <div id=\"df-1ea62798-7c4a-4b40-8777-2a72444f9ac6\">\n",
              "    <div class=\"colab-df-container\">\n",
              "      <div>\n",
              "<style scoped>\n",
              "    .dataframe tbody tr th:only-of-type {\n",
              "        vertical-align: middle;\n",
              "    }\n",
              "\n",
              "    .dataframe tbody tr th {\n",
              "        vertical-align: top;\n",
              "    }\n",
              "\n",
              "    .dataframe thead th {\n",
              "        text-align: right;\n",
              "    }\n",
              "</style>\n",
              "<table border=\"1\" class=\"dataframe\">\n",
              "  <thead>\n",
              "    <tr style=\"text-align: right;\">\n",
              "      <th></th>\n",
              "      <th>description</th>\n",
              "      <th>cluster</th>\n",
              "    </tr>\n",
              "  </thead>\n",
              "  <tbody>\n",
              "    <tr>\n",
              "      <th>0</th>\n",
              "      <td>As her father nears the end of his life, filmm...</td>\n",
              "      <td>1</td>\n",
              "    </tr>\n",
              "    <tr>\n",
              "      <th>1</th>\n",
              "      <td>After crossing paths at a party, a Cape Town t...</td>\n",
              "      <td>0</td>\n",
              "    </tr>\n",
              "    <tr>\n",
              "      <th>2</th>\n",
              "      <td>To protect his family from a powerful drug lor...</td>\n",
              "      <td>13</td>\n",
              "    </tr>\n",
              "    <tr>\n",
              "      <th>3</th>\n",
              "      <td>Feuds, flirtations and toilet talk go down amo...</td>\n",
              "      <td>0</td>\n",
              "    </tr>\n",
              "    <tr>\n",
              "      <th>4</th>\n",
              "      <td>In a city of coaching centers known to train I...</td>\n",
              "      <td>5</td>\n",
              "    </tr>\n",
              "  </tbody>\n",
              "</table>\n",
              "</div>\n",
              "      <button class=\"colab-df-convert\" onclick=\"convertToInteractive('df-1ea62798-7c4a-4b40-8777-2a72444f9ac6')\"\n",
              "              title=\"Convert this dataframe to an interactive table.\"\n",
              "              style=\"display:none;\">\n",
              "        \n",
              "  <svg xmlns=\"http://www.w3.org/2000/svg\" height=\"24px\"viewBox=\"0 0 24 24\"\n",
              "       width=\"24px\">\n",
              "    <path d=\"M0 0h24v24H0V0z\" fill=\"none\"/>\n",
              "    <path d=\"M18.56 5.44l.94 2.06.94-2.06 2.06-.94-2.06-.94-.94-2.06-.94 2.06-2.06.94zm-11 1L8.5 8.5l.94-2.06 2.06-.94-2.06-.94L8.5 2.5l-.94 2.06-2.06.94zm10 10l.94 2.06.94-2.06 2.06-.94-2.06-.94-.94-2.06-.94 2.06-2.06.94z\"/><path d=\"M17.41 7.96l-1.37-1.37c-.4-.4-.92-.59-1.43-.59-.52 0-1.04.2-1.43.59L10.3 9.45l-7.72 7.72c-.78.78-.78 2.05 0 2.83L4 21.41c.39.39.9.59 1.41.59.51 0 1.02-.2 1.41-.59l7.78-7.78 2.81-2.81c.8-.78.8-2.07 0-2.86zM5.41 20L4 18.59l7.72-7.72 1.47 1.35L5.41 20z\"/>\n",
              "  </svg>\n",
              "      </button>\n",
              "      \n",
              "  <style>\n",
              "    .colab-df-container {\n",
              "      display:flex;\n",
              "      flex-wrap:wrap;\n",
              "      gap: 12px;\n",
              "    }\n",
              "\n",
              "    .colab-df-convert {\n",
              "      background-color: #E8F0FE;\n",
              "      border: none;\n",
              "      border-radius: 50%;\n",
              "      cursor: pointer;\n",
              "      display: none;\n",
              "      fill: #1967D2;\n",
              "      height: 32px;\n",
              "      padding: 0 0 0 0;\n",
              "      width: 32px;\n",
              "    }\n",
              "\n",
              "    .colab-df-convert:hover {\n",
              "      background-color: #E2EBFA;\n",
              "      box-shadow: 0px 1px 2px rgba(60, 64, 67, 0.3), 0px 1px 3px 1px rgba(60, 64, 67, 0.15);\n",
              "      fill: #174EA6;\n",
              "    }\n",
              "\n",
              "    [theme=dark] .colab-df-convert {\n",
              "      background-color: #3B4455;\n",
              "      fill: #D2E3FC;\n",
              "    }\n",
              "\n",
              "    [theme=dark] .colab-df-convert:hover {\n",
              "      background-color: #434B5C;\n",
              "      box-shadow: 0px 1px 3px 1px rgba(0, 0, 0, 0.15);\n",
              "      filter: drop-shadow(0px 1px 2px rgba(0, 0, 0, 0.3));\n",
              "      fill: #FFFFFF;\n",
              "    }\n",
              "  </style>\n",
              "\n",
              "      <script>\n",
              "        const buttonEl =\n",
              "          document.querySelector('#df-1ea62798-7c4a-4b40-8777-2a72444f9ac6 button.colab-df-convert');\n",
              "        buttonEl.style.display =\n",
              "          google.colab.kernel.accessAllowed ? 'block' : 'none';\n",
              "\n",
              "        async function convertToInteractive(key) {\n",
              "          const element = document.querySelector('#df-1ea62798-7c4a-4b40-8777-2a72444f9ac6');\n",
              "          const dataTable =\n",
              "            await google.colab.kernel.invokeFunction('convertToInteractive',\n",
              "                                                     [key], {});\n",
              "          if (!dataTable) return;\n",
              "\n",
              "          const docLinkHtml = 'Like what you see? Visit the ' +\n",
              "            '<a target=\"_blank\" href=https://colab.research.google.com/notebooks/data_table.ipynb>data table notebook</a>'\n",
              "            + ' to learn more about interactive tables.';\n",
              "          element.innerHTML = '';\n",
              "          dataTable['output_type'] = 'display_data';\n",
              "          await google.colab.output.renderOutput(dataTable, element);\n",
              "          const docLink = document.createElement('div');\n",
              "          docLink.innerHTML = docLinkHtml;\n",
              "          element.appendChild(docLink);\n",
              "        }\n",
              "      </script>\n",
              "    </div>\n",
              "  </div>\n",
              "  "
            ],
            "text/plain": [
              "                                         description  cluster\n",
              "0  As her father nears the end of his life, filmm...        1\n",
              "1  After crossing paths at a party, a Cape Town t...        0\n",
              "2  To protect his family from a powerful drug lor...       13\n",
              "3  Feuds, flirtations and toilet talk go down amo...        0\n",
              "4  In a city of coaching centers known to train I...        5"
            ]
          },
          "execution_count": 45,
          "metadata": {},
          "output_type": "execute_result"
        }
      ],
      "source": [
        "data = data_org[['description','cluster']]\n",
        "print(data.shape)\n",
        "data.head()"
      ]
    },
    {
      "cell_type": "markdown",
      "metadata": {
        "id": "bu4peTcv61oV"
      },
      "source": [
        "# Running Model"
      ]
    },
    {
      "cell_type": "code",
      "execution_count": null,
      "metadata": {
        "id": "KCRO_VuSAUoF"
      },
      "outputs": [],
      "source": [
        "with open('sentBert_embeddings_3.pkl', 'rb') as fp:\n",
        "    sentBert_encodings = pickle.load(fp)\n",
        "fp.close()"
      ]
    },
    {
      "cell_type": "code",
      "execution_count": null,
      "metadata": {
        "id": "cOMMJmezCFd_"
      },
      "outputs": [],
      "source": [
        "MM_X = MinMaxScaler()\n",
        "bert_X = MM_X.fit_transform(sentBert_encodings)"
      ]
    },
    {
      "cell_type": "code",
      "execution_count": null,
      "metadata": {
        "colab": {
          "base_uri": "https://localhost:8080/"
        },
        "id": "ztmkC5aKBtWd",
        "outputId": "ac3485d6-a725-40f9-fcd1-d578ecf60b3f"
      },
      "outputs": [
        {
          "name": "stdout",
          "output_type": "stream",
          "text": [
            "Shape of x_train (6605, 768)\n",
            "Shape of x_test (2202, 768)\n",
            "Shape of y_train (6605,)\n",
            "Shape of x_test (2202,)\n",
            "## PREDICTING ##\n",
            "### CLASSIFICATION REPORT ###\n",
            "              precision    recall  f1-score   support\n",
            "\n",
            "           0       0.68      0.64      0.66       213\n",
            "           1       0.63      0.50      0.56       314\n",
            "           2       0.61      0.61      0.61       203\n",
            "           3       0.66      0.69      0.67       143\n",
            "           4       0.64      0.68      0.66       103\n",
            "           5       0.39      0.50      0.44       103\n",
            "           6       0.59      0.51      0.55       134\n",
            "           7       0.73      0.62      0.67       263\n",
            "           8       0.59      0.62      0.60       115\n",
            "           9       0.48      0.73      0.58        97\n",
            "          10       0.46      0.58      0.51       133\n",
            "          11       0.79      0.81      0.80       108\n",
            "          12       0.68      0.85      0.75        27\n",
            "          13       0.78      0.76      0.77       246\n",
            "\n",
            "    accuracy                           0.63      2202\n",
            "   macro avg       0.62      0.65      0.63      2202\n",
            "weighted avg       0.64      0.63      0.63      2202\n",
            "\n"
          ]
        }
      ],
      "source": [
        "y = data.iloc[:,1]\n",
        "x_train, x_test, y_train, y_test = train_test_split(np.array(bert_X),y,test_size=0.25, random_state=100)\n",
        "print('Shape of x_train',x_train.shape)\n",
        "print('Shape of x_test',x_test.shape)\n",
        "print('Shape of y_train',y_train.shape)\n",
        "print('Shape of x_test',y_test.shape)\n",
        "\n",
        "nb = GaussianNB()\n",
        "nb.fit(x_train, y_train)\n",
        "\n",
        "print(\"## PREDICTING ##\")\n",
        "preds = nb.predict(x_test)\n",
        "\n",
        "print('### CLASSIFICATION REPORT ###')\n",
        "print(classification_report(y_test,preds))"
      ]
    },
    {
      "cell_type": "code",
      "execution_count": null,
      "metadata": {
        "colab": {
          "base_uri": "https://localhost:8080/"
        },
        "id": "L44KL41q3Atq",
        "outputId": "52da342b-22e0-4e65-92e2-1c0628dd9b73"
      },
      "outputs": [
        {
          "name": "stdout",
          "output_type": "stream",
          "text": [
            "\n",
            "## TRAINING GAUSSIAN NAIVE BAYES ##\n"
          ]
        }
      ],
      "source": [
        "\n",
        "print(\"\\n## TRAINING GAUSSIAN NAIVE BAYES ##\")\n",
        "xgb = XGBClassifier(random_state = 100)\n",
        "xgb.fit(x_train, np.array(y_train))\n",
        "\n",
        "print(\"## PREDICTING ##\")\n",
        "preds = xgb.predict(x_test)\n",
        "\n",
        "print('### CLASSIFICATION REPORT ###')\n",
        "print(classification_report(y_test,preds))\n"
      ]
    },
    {
      "cell_type": "markdown",
      "metadata": {
        "id": "-oP-aANvEcRu"
      },
      "source": [
        "### Deep Learning Model"
      ]
    },
    {
      "cell_type": "code",
      "execution_count": null,
      "metadata": {
        "colab": {
          "background_save": true
        },
        "id": "D39dd3WEFW-C"
      },
      "outputs": [],
      "source": [
        "encoder = preprocessing.OneHotEncoder()\n",
        "encoder.fit(y_train.values.reshape(-1,1))\n",
        "columns = encoder.categories_[0].tolist()\n",
        "\n",
        "y_train_OH = encoder.transform(y_train.values.reshape(-1,1)).toarray()\n",
        "y_test_OH = encoder.transform(y_test.values.reshape(-1,1)).toarray()"
      ]
    },
    {
      "cell_type": "code",
      "execution_count": null,
      "metadata": {
        "colab": {
          "background_save": true
        },
        "id": "s369ekDwGoL0",
        "outputId": "73cff034-fbc6-4e9a-f7e4-bdcc59c31be9"
      },
      "outputs": [
        {
          "data": {
            "text/plain": [
              "(6605, 768)"
            ]
          },
          "execution_count": 51,
          "metadata": {},
          "output_type": "execute_result"
        }
      ],
      "source": [
        "x_train.shape"
      ]
    },
    {
      "cell_type": "code",
      "execution_count": null,
      "metadata": {
        "colab": {
          "background_save": true
        },
        "id": "IDQnyk1tE0c2"
      },
      "outputs": [],
      "source": [
        "\n",
        "model = Sequential()\n",
        "model.add(Dense(units=512, activation='relu', input_dim=x_train.shape[1]))\n",
        "model.add(Dense(units=256, activation='relu'))\n",
        "model.add(Dense(units=128, activation='relu'))\n",
        "model.add(Dense(units=64, activation='relu'))\n",
        "model.add(Dense(units=15, activation='softmax'))"
      ]
    },
    {
      "cell_type": "code",
      "execution_count": null,
      "metadata": {
        "colab": {
          "background_save": true
        },
        "id": "uvfrSdzbE4F5"
      },
      "outputs": [],
      "source": [
        "model.compile(loss='categorical_crossentropy', optimizer='adam', metrics='accuracy')"
      ]
    },
    {
      "cell_type": "code",
      "execution_count": null,
      "metadata": {
        "colab": {
          "background_save": true
        },
        "id": "tXH9GZEiGGxj",
        "outputId": "5a9f897c-3fab-4eef-c644-3f42aa9f0157"
      },
      "outputs": [
        {
          "name": "stdout",
          "output_type": "stream",
          "text": [
            "Model: \"sequential_3\"\n",
            "_________________________________________________________________\n",
            " Layer (type)                Output Shape              Param #   \n",
            "=================================================================\n",
            " dense_15 (Dense)            (None, 512)               393728    \n",
            "                                                                 \n",
            " dense_16 (Dense)            (None, 256)               131328    \n",
            "                                                                 \n",
            " dense_17 (Dense)            (None, 128)               32896     \n",
            "                                                                 \n",
            " dense_18 (Dense)            (None, 64)                8256      \n",
            "                                                                 \n",
            " dense_19 (Dense)            (None, 15)                975       \n",
            "                                                                 \n",
            "=================================================================\n",
            "Total params: 567,183\n",
            "Trainable params: 567,183\n",
            "Non-trainable params: 0\n",
            "_________________________________________________________________\n"
          ]
        }
      ],
      "source": [
        "model.summary()"
      ]
    },
    {
      "cell_type": "code",
      "execution_count": null,
      "metadata": {
        "colab": {
          "background_save": true
        },
        "id": "a86JAUToHJ44",
        "outputId": "6333309f-2de3-4c6e-af1c-f7272f40356e"
      },
      "outputs": [
        {
          "name": "stdout",
          "output_type": "stream",
          "text": [
            "Epoch 1/500\n"
          ]
        },
        {
          "ename": "ValueError",
          "evalue": "ignored",
          "output_type": "error",
          "traceback": [
            "\u001b[0;31m---------------------------------------------------------------------------\u001b[0m",
            "\u001b[0;31mValueError\u001b[0m                                Traceback (most recent call last)",
            "\u001b[0;32m<ipython-input-55-a502ec868157>\u001b[0m in \u001b[0;36m<module>\u001b[0;34m\u001b[0m\n\u001b[1;32m      2\u001b[0m \u001b[0mbatch_size\u001b[0m \u001b[0;34m=\u001b[0m \u001b[0;36m128\u001b[0m\u001b[0;34m\u001b[0m\u001b[0;34m\u001b[0m\u001b[0m\n\u001b[1;32m      3\u001b[0m \u001b[0;34m\u001b[0m\u001b[0m\n\u001b[0;32m----> 4\u001b[0;31m LSTM_model = model.fit(x_train, y_train_OH, epochs=epochs, batch_size = batch_size,\n\u001b[0m\u001b[1;32m      5\u001b[0m                     validation_data=(x_test, y_test_OH))\n",
            "\u001b[0;32m/usr/local/lib/python3.8/dist-packages/keras/utils/traceback_utils.py\u001b[0m in \u001b[0;36merror_handler\u001b[0;34m(*args, **kwargs)\u001b[0m\n\u001b[1;32m     65\u001b[0m     \u001b[0;32mexcept\u001b[0m \u001b[0mException\u001b[0m \u001b[0;32mas\u001b[0m \u001b[0me\u001b[0m\u001b[0;34m:\u001b[0m  \u001b[0;31m# pylint: disable=broad-except\u001b[0m\u001b[0;34m\u001b[0m\u001b[0;34m\u001b[0m\u001b[0m\n\u001b[1;32m     66\u001b[0m       \u001b[0mfiltered_tb\u001b[0m \u001b[0;34m=\u001b[0m \u001b[0m_process_traceback_frames\u001b[0m\u001b[0;34m(\u001b[0m\u001b[0me\u001b[0m\u001b[0;34m.\u001b[0m\u001b[0m__traceback__\u001b[0m\u001b[0;34m)\u001b[0m\u001b[0;34m\u001b[0m\u001b[0;34m\u001b[0m\u001b[0m\n\u001b[0;32m---> 67\u001b[0;31m       \u001b[0;32mraise\u001b[0m \u001b[0me\u001b[0m\u001b[0;34m.\u001b[0m\u001b[0mwith_traceback\u001b[0m\u001b[0;34m(\u001b[0m\u001b[0mfiltered_tb\u001b[0m\u001b[0;34m)\u001b[0m \u001b[0;32mfrom\u001b[0m \u001b[0;32mNone\u001b[0m\u001b[0;34m\u001b[0m\u001b[0;34m\u001b[0m\u001b[0m\n\u001b[0m\u001b[1;32m     68\u001b[0m     \u001b[0;32mfinally\u001b[0m\u001b[0;34m:\u001b[0m\u001b[0;34m\u001b[0m\u001b[0;34m\u001b[0m\u001b[0m\n\u001b[1;32m     69\u001b[0m       \u001b[0;32mdel\u001b[0m \u001b[0mfiltered_tb\u001b[0m\u001b[0;34m\u001b[0m\u001b[0;34m\u001b[0m\u001b[0m\n",
            "\u001b[0;32m/usr/local/lib/python3.8/dist-packages/keras/engine/training.py\u001b[0m in \u001b[0;36mtf__train_function\u001b[0;34m(iterator)\u001b[0m\n\u001b[1;32m     13\u001b[0m                 \u001b[0;32mtry\u001b[0m\u001b[0;34m:\u001b[0m\u001b[0;34m\u001b[0m\u001b[0;34m\u001b[0m\u001b[0m\n\u001b[1;32m     14\u001b[0m                     \u001b[0mdo_return\u001b[0m \u001b[0;34m=\u001b[0m \u001b[0;32mTrue\u001b[0m\u001b[0;34m\u001b[0m\u001b[0;34m\u001b[0m\u001b[0m\n\u001b[0;32m---> 15\u001b[0;31m                     \u001b[0mretval_\u001b[0m \u001b[0;34m=\u001b[0m \u001b[0mag__\u001b[0m\u001b[0;34m.\u001b[0m\u001b[0mconverted_call\u001b[0m\u001b[0;34m(\u001b[0m\u001b[0mag__\u001b[0m\u001b[0;34m.\u001b[0m\u001b[0mld\u001b[0m\u001b[0;34m(\u001b[0m\u001b[0mstep_function\u001b[0m\u001b[0;34m)\u001b[0m\u001b[0;34m,\u001b[0m \u001b[0;34m(\u001b[0m\u001b[0mag__\u001b[0m\u001b[0;34m.\u001b[0m\u001b[0mld\u001b[0m\u001b[0;34m(\u001b[0m\u001b[0mself\u001b[0m\u001b[0;34m)\u001b[0m\u001b[0;34m,\u001b[0m \u001b[0mag__\u001b[0m\u001b[0;34m.\u001b[0m\u001b[0mld\u001b[0m\u001b[0;34m(\u001b[0m\u001b[0miterator\u001b[0m\u001b[0;34m)\u001b[0m\u001b[0;34m)\u001b[0m\u001b[0;34m,\u001b[0m \u001b[0;32mNone\u001b[0m\u001b[0;34m,\u001b[0m \u001b[0mfscope\u001b[0m\u001b[0;34m)\u001b[0m\u001b[0;34m\u001b[0m\u001b[0;34m\u001b[0m\u001b[0m\n\u001b[0m\u001b[1;32m     16\u001b[0m                 \u001b[0;32mexcept\u001b[0m\u001b[0;34m:\u001b[0m\u001b[0;34m\u001b[0m\u001b[0;34m\u001b[0m\u001b[0m\n\u001b[1;32m     17\u001b[0m                     \u001b[0mdo_return\u001b[0m \u001b[0;34m=\u001b[0m \u001b[0;32mFalse\u001b[0m\u001b[0;34m\u001b[0m\u001b[0;34m\u001b[0m\u001b[0m\n",
            "\u001b[0;31mValueError\u001b[0m: in user code:\n\n    File \"/usr/local/lib/python3.8/dist-packages/keras/engine/training.py\", line 1051, in train_function  *\n        return step_function(self, iterator)\n    File \"/usr/local/lib/python3.8/dist-packages/keras/engine/training.py\", line 1040, in step_function  **\n        outputs = model.distribute_strategy.run(run_step, args=(data,))\n    File \"/usr/local/lib/python3.8/dist-packages/keras/engine/training.py\", line 1030, in run_step  **\n        outputs = model.train_step(data)\n    File \"/usr/local/lib/python3.8/dist-packages/keras/engine/training.py\", line 890, in train_step\n        loss = self.compute_loss(x, y, y_pred, sample_weight)\n    File \"/usr/local/lib/python3.8/dist-packages/keras/engine/training.py\", line 948, in compute_loss\n        return self.compiled_loss(\n    File \"/usr/local/lib/python3.8/dist-packages/keras/engine/compile_utils.py\", line 201, in __call__\n        loss_value = loss_obj(y_t, y_p, sample_weight=sw)\n    File \"/usr/local/lib/python3.8/dist-packages/keras/losses.py\", line 139, in __call__\n        losses = call_fn(y_true, y_pred)\n    File \"/usr/local/lib/python3.8/dist-packages/keras/losses.py\", line 243, in call  **\n        return ag_fn(y_true, y_pred, **self._fn_kwargs)\n    File \"/usr/local/lib/python3.8/dist-packages/keras/losses.py\", line 1787, in categorical_crossentropy\n        return backend.categorical_crossentropy(\n    File \"/usr/local/lib/python3.8/dist-packages/keras/backend.py\", line 5119, in categorical_crossentropy\n        target.shape.assert_is_compatible_with(output.shape)\n\n    ValueError: Shapes (None, 14) and (None, 15) are incompatible\n"
          ]
        }
      ],
      "source": [
        "epochs = 500\n",
        "batch_size = 128\n",
        "\n",
        "LSTM_model = model.fit(x_train, y_train_OH, epochs=epochs, batch_size = batch_size,\n",
        "                    validation_data=(x_test, y_test_OH))"
      ]
    },
    {
      "cell_type": "code",
      "execution_count": null,
      "metadata": {
        "colab": {
          "background_save": true
        },
        "id": "_3dB5Gm5E8He"
      },
      "outputs": [],
      "source": [
        "### Prediting on test data for calculating performance metrics\n",
        "\n",
        "preds = model.predict(x_test)\n",
        "preds = np.argmax(preds,axis = 1)\n",
        "lEncoder = preprocessing.LabelEncoder()\n",
        "lEncoder.fit(y_train)\n",
        "y_test = lEncoder.transform(y_test)\n",
        "print(classification_report(y_test,preds))"
      ]
    }
  ],
  "metadata": {
    "colab": {
      "provenance": []
    },
    "kernelspec": {
      "display_name": "Python 3 (ipykernel)",
      "language": "python",
      "name": "python3"
    },
    "language_info": {
      "codemirror_mode": {
        "name": "ipython",
        "version": 3
      },
      "file_extension": ".py",
      "mimetype": "text/x-python",
      "name": "python",
      "nbconvert_exporter": "python",
      "pygments_lexer": "ipython3",
      "version": "3.9.7"
    }
  },
  "nbformat": 4,
  "nbformat_minor": 0
}